{
 "cells": [
  {
   "cell_type": "code",
   "execution_count": 32,
   "metadata": {},
   "outputs": [],
   "source": [
    "import nltk\n",
    "import wikipedia"
   ]
  },
  {
   "cell_type": "code",
   "execution_count": null,
   "metadata": {},
   "outputs": [],
   "source": []
  },
  {
   "cell_type": "code",
   "execution_count": 33,
   "metadata": {},
   "outputs": [],
   "source": [
    "def named_entity_recognition(text):\n",
    "    data = nltk.word_tokenize(text)\n",
    "    data = nltk.pos_tag(data)\n",
    "    data = nltk.ne_chunk(data)\n",
    "    data = list(data)\n",
    "    \n",
    "    final = False\n",
    "    \n",
    "    for x in data:\n",
    "        if type(x) is nltk.tree.Tree:\n",
    "            final = x[0][0]\n",
    "            \n",
    "    return final"
   ]
  },
  {
   "cell_type": "code",
   "execution_count": 34,
   "metadata": {},
   "outputs": [],
   "source": [
    "d = named_entity_recognition(\"Can you give me some info about Cahrles\")"
   ]
  },
  {
   "cell_type": "code",
   "execution_count": null,
   "metadata": {},
   "outputs": [],
   "source": []
  },
  {
   "cell_type": "code",
   "execution_count": 35,
   "metadata": {},
   "outputs": [
    {
     "data": {
      "text/plain": [
       "['Bulgaria',\n",
       " 'Demographics of Bulgaria',\n",
       " 'Sofia',\n",
       " 'Bulgaria Air',\n",
       " \"People's Republic of Bulgaria\",\n",
       " 'Balkan Wars',\n",
       " 'Volga Bulgaria',\n",
       " 'List of Bulgarian consorts',\n",
       " 'Georgi Markov',\n",
       " 'List of Bulgarian monarchs']"
      ]
     },
     "execution_count": 35,
     "metadata": {},
     "output_type": "execute_result"
    }
   ],
   "source": [
    "wikipedia.search(\"Bulgaria\")"
   ]
  },
  {
   "cell_type": "code",
   "execution_count": 36,
   "metadata": {},
   "outputs": [],
   "source": [
    "bg = wikipedia.page(\"Bulgaria\")"
   ]
  },
  {
   "cell_type": "code",
   "execution_count": 39,
   "metadata": {},
   "outputs": [
    {
     "data": {
      "text/plain": [
       "['All articles containing potentially dated statements',\n",
       " 'All articles needing additional references',\n",
       " 'All articles with dead external links',\n",
       " 'All articles with unsourced statements',\n",
       " 'All articles with vague or ambiguous time',\n",
       " 'Articles containing Bulgarian-language text',\n",
       " 'Articles containing potentially dated statements from 2012',\n",
       " 'Articles including recorded pronunciations (English)',\n",
       " 'Articles needing additional references from March 2018',\n",
       " 'Articles with Bulgarian-language external links',\n",
       " 'Articles with Curlie links',\n",
       " 'Articles with dead external links from December 2017',\n",
       " 'Articles with hAudio microformats',\n",
       " 'Articles with permanently dead external links',\n",
       " 'Articles with unsourced statements from October 2011',\n",
       " 'Balkan countries',\n",
       " 'Bulgaria',\n",
       " 'CS1 Bulgarian-language sources (bg)',\n",
       " 'CS1 French-language sources (fr)',\n",
       " 'CS1 German-language sources (de)',\n",
       " 'Coordinates on Wikidata',\n",
       " 'Former empires',\n",
       " 'Good articles',\n",
       " 'Member states of NATO',\n",
       " 'Member states of the Council of Europe',\n",
       " 'Member states of the European Union',\n",
       " 'Member states of the Union for the Mediterranean',\n",
       " 'Member states of the United Nations',\n",
       " 'Pages using div col with deprecated parameters',\n",
       " 'Republics',\n",
       " 'Slavic countries and territories',\n",
       " 'States and territories established in 1908',\n",
       " 'States and territories established in the 680s',\n",
       " 'Use dmy dates from September 2016',\n",
       " 'Vague or ambiguous time from November 2016',\n",
       " 'Webarchive template wayback links',\n",
       " 'Wikipedia articles needing clarification from November 2016',\n",
       " 'Wikipedia articles with BIBSYS identifiers',\n",
       " 'Wikipedia articles with BNF identifiers',\n",
       " 'Wikipedia articles with GND identifiers',\n",
       " 'Wikipedia articles with ISNI identifiers',\n",
       " 'Wikipedia articles with LCCN identifiers',\n",
       " 'Wikipedia articles with NLA identifiers',\n",
       " 'Wikipedia articles with VIAF identifiers',\n",
       " 'Wikipedia indefinitely move-protected pages',\n",
       " 'Wikipedia indefinitely semi-protected pages']"
      ]
     },
     "execution_count": 39,
     "metadata": {},
     "output_type": "execute_result"
    }
   ],
   "source": [
    "bg.categories"
   ]
  },
  {
   "cell_type": "code",
   "execution_count": null,
   "metadata": {},
   "outputs": [],
   "source": []
  },
  {
   "cell_type": "code",
   "execution_count": null,
   "metadata": {},
   "outputs": [],
   "source": []
  },
  {
   "cell_type": "code",
   "execution_count": 37,
   "metadata": {},
   "outputs": [
    {
     "data": {
      "text/plain": [
       "1000"
      ]
     },
     "execution_count": 37,
     "metadata": {},
     "output_type": "execute_result"
    }
   ],
   "source": [
    "len(bg.content[:1*10**3])"
   ]
  },
  {
   "cell_type": "code",
   "execution_count": 38,
   "metadata": {},
   "outputs": [
    {
     "data": {
      "text/plain": [
       "52454"
      ]
     },
     "execution_count": 38,
     "metadata": {},
     "output_type": "execute_result"
    }
   ],
   "source": [
    "len(bg.content)"
   ]
  },
  {
   "cell_type": "code",
   "execution_count": null,
   "metadata": {},
   "outputs": [],
   "source": []
  },
  {
   "cell_type": "code",
   "execution_count": null,
   "metadata": {},
   "outputs": [],
   "source": []
  },
  {
   "cell_type": "code",
   "execution_count": null,
   "metadata": {},
   "outputs": [],
   "source": []
  },
  {
   "cell_type": "code",
   "execution_count": null,
   "metadata": {},
   "outputs": [],
   "source": []
  },
  {
   "cell_type": "code",
   "execution_count": null,
   "metadata": {},
   "outputs": [],
   "source": []
  }
 ],
 "metadata": {
  "kernelspec": {
   "display_name": "Python 3",
   "language": "python",
   "name": "python3"
  },
  "language_info": {
   "codemirror_mode": {
    "name": "ipython",
    "version": 3
   },
   "file_extension": ".py",
   "mimetype": "text/x-python",
   "name": "python",
   "nbconvert_exporter": "python",
   "pygments_lexer": "ipython3",
   "version": "3.6.4"
  }
 },
 "nbformat": 4,
 "nbformat_minor": 2
}
