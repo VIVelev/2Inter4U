{
 "cells": [
  {
   "cell_type": "code",
   "execution_count": 1,
   "metadata": {},
   "outputs": [],
   "source": [
    "import nltk\n",
    "import wikipedia"
   ]
  },
  {
   "cell_type": "code",
   "execution_count": null,
   "metadata": {},
   "outputs": [],
   "source": []
  },
  {
   "cell_type": "code",
   "execution_count": 2,
   "metadata": {},
   "outputs": [],
   "source": [
    "def named_entity_recognition(text):\n",
    "    data = nltk.word_tokenize(text)\n",
    "    data = nltk.pos_tag(data)\n",
    "    data = nltk.ne_chunk(data)\n",
    "    data = list(data)\n",
    "    \n",
    "    final = False\n",
    "    \n",
    "    for x in data:\n",
    "        if type(x) is nltk.tree.Tree:\n",
    "            final = x[0][0]\n",
    "            \n",
    "    return final"
   ]
  },
  {
   "cell_type": "code",
   "execution_count": 3,
   "metadata": {},
   "outputs": [],
   "source": [
    "d = named_entity_recognition(\"Can you give me some info about Cahrles\")"
   ]
  },
  {
   "cell_type": "code",
   "execution_count": null,
   "metadata": {},
   "outputs": [],
   "source": []
  },
  {
   "cell_type": "code",
   "execution_count": 4,
   "metadata": {},
   "outputs": [
    {
     "data": {
      "text/plain": [
       "['Bulgaria',\n",
       " 'Demographics of Bulgaria',\n",
       " 'Sofia',\n",
       " 'Bulgaria Air',\n",
       " \"People's Republic of Bulgaria\",\n",
       " 'Balkan Wars',\n",
       " 'Volga Bulgaria',\n",
       " 'List of Bulgarian consorts',\n",
       " 'Georgi Markov',\n",
       " 'Provinces of Bulgaria']"
      ]
     },
     "execution_count": 4,
     "metadata": {},
     "output_type": "execute_result"
    }
   ],
   "source": [
    "wikipedia.search(\"Bulgaria\")"
   ]
  },
  {
   "cell_type": "code",
   "execution_count": 5,
   "metadata": {},
   "outputs": [],
   "source": [
    "bg = wikipedia.page(\"Bulgaria\")"
   ]
  },
  {
   "cell_type": "code",
   "execution_count": 7,
   "metadata": {},
   "outputs": [
    {
     "data": {
      "text/plain": [
       "'All articles containing potentially dated statements All articles needing additional references All articles with dead external links All articles with unsourced statements All articles with vague or ambiguous time Articles containing Bulgarian-language text Articles containing potentially dated statements from 2012 Articles including recorded pronunciations (English) Articles needing additional references from March 2018 Articles with Bulgarian-language external links Articles with Curlie links Articles with dead external links from December 2017 Articles with hAudio microformats Articles with permanently dead external links Articles with unsourced statements from October 2011 Balkan countries Bulgaria CS1 Bulgarian-language sources (bg) CS1 French-language sources (fr) CS1 German-language sources (de) Coordinates on Wikidata Former empires Good articles Member states of NATO Member states of the Council of Europe Member states of the European Union Member states of the Union for the Mediterranean Member states of the United Nations Pages using div col with deprecated parameters Republics Slavic countries and territories States and territories established in 1908 States and territories established in the 680s Use dmy dates from September 2016 Vague or ambiguous time from November 2016 Webarchive template wayback links Wikipedia articles needing clarification from November 2016 Wikipedia articles with BIBSYS identifiers Wikipedia articles with BNF identifiers Wikipedia articles with GND identifiers Wikipedia articles with ISNI identifiers Wikipedia articles with LCCN identifiers Wikipedia articles with NLA identifiers Wikipedia articles with VIAF identifiers Wikipedia indefinitely move-protected pages Wikipedia indefinitely semi-protected pages'"
      ]
     },
     "execution_count": 7,
     "metadata": {},
     "output_type": "execute_result"
    }
   ],
   "source": [
    "\" \".join(bg.categories)"
   ]
  },
  {
   "cell_type": "code",
   "execution_count": null,
   "metadata": {},
   "outputs": [],
   "source": []
  },
  {
   "cell_type": "code",
   "execution_count": null,
   "metadata": {},
   "outputs": [],
   "source": []
  },
  {
   "cell_type": "code",
   "execution_count": 37,
   "metadata": {},
   "outputs": [
    {
     "data": {
      "text/plain": [
       "1000"
      ]
     },
     "execution_count": 37,
     "metadata": {},
     "output_type": "execute_result"
    }
   ],
   "source": [
    "len(bg.content[:1*10**3])"
   ]
  },
  {
   "cell_type": "code",
   "execution_count": 38,
   "metadata": {},
   "outputs": [
    {
     "data": {
      "text/plain": [
       "52454"
      ]
     },
     "execution_count": 38,
     "metadata": {},
     "output_type": "execute_result"
    }
   ],
   "source": [
    "len(bg.content)"
   ]
  },
  {
   "cell_type": "code",
   "execution_count": null,
   "metadata": {},
   "outputs": [],
   "source": []
  },
  {
   "cell_type": "code",
   "execution_count": null,
   "metadata": {},
   "outputs": [],
   "source": []
  },
  {
   "cell_type": "code",
   "execution_count": 104,
   "metadata": {},
   "outputs": [],
   "source": [
    "from elasticsearch import Elasticsearch\n",
    "from datetime import datetime"
   ]
  },
  {
   "cell_type": "code",
   "execution_count": 116,
   "metadata": {
    "scrolled": true
   },
   "outputs": [
    {
     "name": "stdout",
     "output_type": "stream",
     "text": [
      "deleting 'test' index...\n",
      " response: '{'acknowledged': True}'\n",
      "creating 'test' index...\n",
      " response: '{'acknowledged': True, 'shards_acknowledged': True, 'index': 'test'}'\n"
     ]
    }
   ],
   "source": [
    "es = Elasticsearch()\n",
    "INDEX_NAME = \"test\"\n",
    "\n",
    "if es.indices.exists(INDEX_NAME):\n",
    "    print(\"deleting '%s' index...\" % (INDEX_NAME))\n",
    "    res = es.indices.delete(index = INDEX_NAME)\n",
    "    print(\" response: '%s'\" % (res))\n",
    "\n",
    "request_body = {\n",
    "    \"settings\" : {\n",
    "        \"number_of_shards\" : 1,\n",
    "        \"analysis\": {\n",
    "            \"filter\": {\n",
    "                \"english_stop\": {\n",
    "                    \"type\": \"stop\",\n",
    "                    \"stopwords\": \"_english_\" \n",
    "                },\n",
    "                \"english_keywords\": {\n",
    "                    \"type\": \"keyword_marker\",\n",
    "                    \"keywords\": [\"example\"] \n",
    "                },\n",
    "                \"english_stemmer\": {\n",
    "                    \"type\": \"stemmer\",\n",
    "                    \"language\": \"english\"\n",
    "                },\n",
    "                \"english_possessive_stemmer\": {\n",
    "                    \"type\": \"stemmer\",\n",
    "                  \"language\": \"possessive_english\"\n",
    "                }\n",
    "            },\n",
    "            \"analyzer\": {\n",
    "                \"english\": {\n",
    "                    \"tokenizer\":  \"standard\",\n",
    "                    \"filter\": [\n",
    "                        \"english_possessive_stemmer\",\n",
    "                        \"lowercase\",\n",
    "                        \"english_stop\",\n",
    "                        \"english_keywords\",\n",
    "                        \"english_stemmer\"\n",
    "                    ]\n",
    "                }\n",
    "            }\n",
    "        }\n",
    "    },\n",
    "    \"mappings\" : {\n",
    "        \"blog\" : {\n",
    "            \"properties\" : {\n",
    "                \"title\": {\"type\" : \"text\"},\n",
    "                \"text\": {\"type\" : \"text\"},\n",
    "                \"date\": {\"type\": \"date\"}\n",
    "            }\n",
    "        }\n",
    "    },\n",
    "}\n",
    "\n",
    "print(\"creating '%s' index...\" % (INDEX_NAME))\n",
    "res = es.indices.create(index = INDEX_NAME, body = request_body)\n",
    "print(\" response: '%s'\" % (res))"
   ]
  },
  {
   "cell_type": "code",
   "execution_count": 117,
   "metadata": {},
   "outputs": [],
   "source": [
    "for i in range(5):\n",
    "    doc = {\n",
    "        'title': 'victor',\n",
    "        'text': 'Hello World',\n",
    "        \"date\": datetime.now()\n",
    "    }\n",
    "\n",
    "    res = es.index(index=INDEX_NAME, doc_type=\"blog\", id=i, body=doc)"
   ]
  },
  {
   "cell_type": "code",
   "execution_count": 118,
   "metadata": {},
   "outputs": [
    {
     "data": {
      "text/plain": [
       "{'_id': '4',\n",
       " '_index': 'test',\n",
       " '_source': {'date': '2018-03-17T14:41:05.070610',\n",
       "  'text': 'Hello World',\n",
       "  'title': 'victor'},\n",
       " '_type': 'blog',\n",
       " '_version': 1,\n",
       " 'found': True}"
      ]
     },
     "execution_count": 118,
     "metadata": {},
     "output_type": "execute_result"
    }
   ],
   "source": [
    "es.get(index=INDEX_NAME, doc_type=\"blog\", id=4)"
   ]
  },
  {
   "cell_type": "code",
   "execution_count": 119,
   "metadata": {},
   "outputs": [
    {
     "data": {
      "text/plain": [
       "{'_shards': {'failed': 0, 'successful': 1, 'total': 2}}"
      ]
     },
     "execution_count": 119,
     "metadata": {},
     "output_type": "execute_result"
    }
   ],
   "source": [
    "es.indices.refresh(index=INDEX_NAME)"
   ]
  },
  {
   "cell_type": "code",
   "execution_count": 120,
   "metadata": {},
   "outputs": [
    {
     "name": "stdout",
     "output_type": "stream",
     "text": [
      "Got 5 Hits:\n",
      "{'_index': 'test', '_type': 'blog', '_id': '0', '_score': 0.087011375, '_source': {'title': 'victor', 'text': 'Hello World', 'date': '2018-03-17T14:41:05.007952'}}\n",
      "{'_index': 'test', '_type': 'blog', '_id': '1', '_score': 0.087011375, '_source': {'title': 'victor', 'text': 'Hello World', 'date': '2018-03-17T14:41:05.029934'}}\n",
      "{'_index': 'test', '_type': 'blog', '_id': '2', '_score': 0.087011375, '_source': {'title': 'victor', 'text': 'Hello World', 'date': '2018-03-17T14:41:05.044289'}}\n",
      "{'_index': 'test', '_type': 'blog', '_id': '3', '_score': 0.087011375, '_source': {'title': 'victor', 'text': 'Hello World', 'date': '2018-03-17T14:41:05.057697'}}\n",
      "{'_index': 'test', '_type': 'blog', '_id': '4', '_score': 0.087011375, '_source': {'title': 'victor', 'text': 'Hello World', 'date': '2018-03-17T14:41:05.070610'}}\n"
     ]
    }
   ],
   "source": [
    "body = {\n",
    "    \"query\": {\n",
    "        \"more_like_this\" : {\n",
    "            \"fields\" : [\"text\"],\n",
    "            \"like\" : \"Hello\",\n",
    "            \"min_term_freq\" : 1,\n",
    "            \"max_query_terms\" : 12\n",
    "        }\n",
    "    }\n",
    "}\n",
    "res = es.search(index=INDEX_NAME, body=body)\n",
    "# print(res)\n",
    "print(\"Got %d Hits:\" % res['hits']['total'])\n",
    "for hit in res['hits']['hits']:\n",
    "    print(hit)"
   ]
  },
  {
   "cell_type": "code",
   "execution_count": null,
   "metadata": {},
   "outputs": [],
   "source": []
  },
  {
   "cell_type": "code",
   "execution_count": null,
   "metadata": {},
   "outputs": [],
   "source": []
  },
  {
   "cell_type": "code",
   "execution_count": null,
   "metadata": {},
   "outputs": [],
   "source": []
  },
  {
   "cell_type": "code",
   "execution_count": null,
   "metadata": {},
   "outputs": [],
   "source": []
  },
  {
   "cell_type": "code",
   "execution_count": null,
   "metadata": {},
   "outputs": [],
   "source": []
  },
  {
   "cell_type": "code",
   "execution_count": null,
   "metadata": {},
   "outputs": [],
   "source": []
  },
  {
   "cell_type": "code",
   "execution_count": null,
   "metadata": {},
   "outputs": [],
   "source": []
  }
 ],
 "metadata": {
  "kernelspec": {
   "display_name": "Python 3",
   "language": "python",
   "name": "python3"
  },
  "language_info": {
   "codemirror_mode": {
    "name": "ipython",
    "version": 3
   },
   "file_extension": ".py",
   "mimetype": "text/x-python",
   "name": "python",
   "nbconvert_exporter": "python",
   "pygments_lexer": "ipython3",
   "version": "3.6.4"
  }
 },
 "nbformat": 4,
 "nbformat_minor": 2
}
