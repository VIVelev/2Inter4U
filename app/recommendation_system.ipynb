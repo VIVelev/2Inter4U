{
 "cells": [
  {
   "cell_type": "code",
   "execution_count": 1,
   "metadata": {},
   "outputs": [],
   "source": [
    "import nltk\n",
    "import wikipedia"
   ]
  },
  {
   "cell_type": "code",
   "execution_count": null,
   "metadata": {},
   "outputs": [],
   "source": []
  },
  {
   "cell_type": "code",
   "execution_count": 2,
   "metadata": {},
   "outputs": [],
   "source": [
    "def named_entity_recognition(text):\n",
    "    data = nltk.word_tokenize(text)\n",
    "    data = nltk.pos_tag(data)\n",
    "    data = nltk.ne_chunk(data)\n",
    "    data = list(data)\n",
    "    \n",
    "    final = False\n",
    "    \n",
    "    for x in data:\n",
    "        if type(x) is nltk.tree.Tree:\n",
    "            final = x[0][0]\n",
    "            \n",
    "    return final"
   ]
  },
  {
   "cell_type": "code",
   "execution_count": 3,
   "metadata": {},
   "outputs": [],
   "source": [
    "d = named_entity_recognition(\"Can you give me some info about Cahrles\")"
   ]
  },
  {
   "cell_type": "code",
   "execution_count": null,
   "metadata": {},
   "outputs": [],
   "source": []
  },
  {
   "cell_type": "code",
   "execution_count": 4,
   "metadata": {},
   "outputs": [
    {
     "data": {
      "text/plain": [
       "['Bulgaria',\n",
       " 'Demographics of Bulgaria',\n",
       " 'Sofia',\n",
       " 'Bulgaria Air',\n",
       " \"People's Republic of Bulgaria\",\n",
       " 'Balkan Wars',\n",
       " 'Volga Bulgaria',\n",
       " 'List of Bulgarian consorts',\n",
       " 'Georgi Markov',\n",
       " 'Provinces of Bulgaria']"
      ]
     },
     "execution_count": 4,
     "metadata": {},
     "output_type": "execute_result"
    }
   ],
   "source": [
    "wikipedia.search(\"Bulgaria\")"
   ]
  },
  {
   "cell_type": "code",
   "execution_count": 7,
   "metadata": {},
   "outputs": [],
   "source": [
    "bg = wikipedia.page(\"Bulgaria\")"
   ]
  },
  {
   "cell_type": "code",
   "execution_count": 8,
   "metadata": {},
   "outputs": [],
   "source": [
    "from gensim.summarization.summarizer import summarize"
   ]
  },
  {
   "cell_type": "code",
   "execution_count": 12,
   "metadata": {},
   "outputs": [
    {
     "data": {
      "text/plain": [
       "'Thracians, one of the three primary ancestral groups of modern Bulgarians, began appearing in the region during the Iron Age. In the late 6th century BC, the Persians conquered most of present-day Bulgaria.\\nIt was superseded by the subsequent Treaty of Berlin, signed on 13 July, which provided for a much smaller state comprising Moesia and the region of Sofia, leaving large populations of Bulgarians outside the new country.\\nFrom a largely agricultural country with a predominantly rural population in 1948, by the 1980s Bulgaria had transformed into an industrial economy with scientific and technological research at the top of its budgetary expenditure priorities.\\nNine historical and natural objects have been inscribed in the list of UNESCO World Heritage Sites: the Madara Rider, the Thracian tombs in Sveshtari and Kazanlak, the Boyana Church, the Rila Monastery, the Rock-hewn Churches of Ivanovo, Pirin National Park, Sreburna Nature Reserve and the ancient city of Nesebar.'"
      ]
     },
     "execution_count": 12,
     "metadata": {},
     "output_type": "execute_result"
    }
   ],
   "source": [
    "summarize(bg.content, ratio=0.01)"
   ]
  },
  {
   "cell_type": "code",
   "execution_count": null,
   "metadata": {},
   "outputs": [],
   "source": []
  },
  {
   "cell_type": "code",
   "execution_count": 37,
   "metadata": {},
   "outputs": [
    {
     "data": {
      "text/plain": [
       "1000"
      ]
     },
     "execution_count": 37,
     "metadata": {},
     "output_type": "execute_result"
    }
   ],
   "source": [
    "len(bg.content[:1*10**3])"
   ]
  },
  {
   "cell_type": "code",
   "execution_count": 38,
   "metadata": {},
   "outputs": [
    {
     "data": {
      "text/plain": [
       "52454"
      ]
     },
     "execution_count": 38,
     "metadata": {},
     "output_type": "execute_result"
    }
   ],
   "source": [
    "len(bg.content)"
   ]
  },
  {
   "cell_type": "code",
   "execution_count": null,
   "metadata": {},
   "outputs": [],
   "source": []
  },
  {
   "cell_type": "code",
   "execution_count": null,
   "metadata": {},
   "outputs": [],
   "source": []
  },
  {
   "cell_type": "code",
   "execution_count": 130,
   "metadata": {},
   "outputs": [],
   "source": [
    "a = wikipedia.random(pages=10)"
   ]
  },
  {
   "cell_type": "code",
   "execution_count": 133,
   "metadata": {},
   "outputs": [
    {
     "data": {
      "text/plain": [
       "'The Queen of Sheba is a Biblical and Quranic figure. The tale of her visit to King Solomon has undergone extensive Jewish, Islamic, and Ethiopian elaborations, and has become the subject of one of the most widespread and fertile cycles of legends in the Orient.\\n\\n\\n== Narratives ==\\n\\n\\n=== Bible ===\\n\\nThe queen of Sheba (מַלְכַּת־שְׁבָא\\u202c, \"malkat-šəḇā\" in the Hebrew Bible, βασίλισσα Σαβὰ in the Septuagint, Syriac ܡܠܟܬ ܫܒܐ, Ethiopic ንግሥተ፡ሳባእ፡) came to Jerusalem \"with a very great retinue, with camels bearing spices, and very much gold, and precious stones\" (I Kings 10:2). \"Never again came such an abundance of spices\" (10:10; II Chron. 9:1–9) as those she gave to Solomon. She came \"to prove him with hard questions,\" which Solomon answered to her satisfaction. They exchanged gifts, after which she returned to her land.\\nThe use of the term ḥiddot or \"riddles\" (I Kings 10:1), an Aramaic loanword whose shape points to a sound shift no earlier than the sixth century B.C., indicates a late origin for the text. Since there is no mention of the fall of Babylon in 539 BC, Martin Noth has held that the Book of Kings received a definitive redaction around 550 BC\\nVirtually all modern scholars agree that Sheba was the South Arabian kingdom of Saba, centered around the oasis of Marib, in present-day Yemen. Sheba was quite known in the classical world, and its country was called Arabia Felix. Around the middle of the first millennium B.C., there were Sabaeans also in the Horn of Africa, in the area that later became the realm of Aksum. There are five places in the Bible where the writer distinguishes Sheba (שׁבא), i. e. the Yemenite Sabaeans, from Seba (סבא), i. e. the African Sabaeans. In Ps. 72:10 they are mentioned together: \"the kings of Sheba and Seba shall offer gifts\". This spelling differentiation, however, may be purely factitious; the indigenous inscriptions make no such difference, and both Yemenite and African Sabaeans are there spelt in exactly the same way.\\nThe alphabetic inscriptions from South Arabia furnish no evidence for women rulers, but Assyrian inscriptions repeatedly mention Arab queens in the north. Queens are well attested in Arabia, though according to Kitchen, not after 690 B.C. Furthermore, Sabaean tribes knew the title of mqtwyt (high official). Makada or Makueda, the personal name of the queen in Ethiopian legend, might be interpreted as a popular rendering of the title of mqtwyt. This title may be derived from Ancient Egyptian m\\'kit (𓅖𓎡𓇌𓏏𓏛 ) \"protectress, housewife\".\\nThe queen\\'s visit could have been a trade mission. Early South Arabian trade with Mesopotamia involving wood and spices transported by camels is attested in the early ninth century B.C. and may have begun as early as the tenth.\\nThe ancient Sabaic Awwām Temple, known in folklore as Maḥram (the Sanctuary of) Bilqīs, was recently excavated by archaeologists, but no trace of Queen of Sheba has been discovered so far in the many inscriptions found there.\\nBible stories of the Queen of Sheba and the ships of Ophir served as a basis for legends about the Israelites traveling in the Queen of Sheba\\'s entourage when she returned to her country to bring up her child by Solomon.\\n\\n\\n=== Christian ===\\n\\nChristian scriptures mention a \"queen of the South\" (Greek: βασίλισσα νότου, Latin: Regina austri), who \"came from the uttermost parts of the earth\", i.e. from the extremities of the then known (Christian) world, to hear the wisdom of Solomon (Mt. 12:42; Lk. 11:31).\\nThe mystical interpretation of the Canticles, which was felt of supplying a literal basis for the speculations of the allegorists, makes its first appearance in Origen, who wrote a voluminous commentary on the Canticles. In his commentary, Origen identified the bride of the Canticles with the \"queen of the South\" of the Gospels, i. e. the Queen of Sheba, who is assumed to have been Ethiopian. Others have proposed either the marriage of Solomon with Pharaoh\\'s daughter, or his marriage with an Israelitish woman, the Shulamite. The former was the favorite opinion of the mystical interpreters to the end of the 18th century; the latter has obtained since its introduction by Good (1803).\\n\\nThe bride of the Canticles is assumed to have been black due to a passage in Cant. 1:5, which the Revised Standard Version (1952) translates as \"I am very dark, but comely\", as does Jerome (Latin: Nigra sum, sed formosa), while the New Revised Standard Version (1989) has \"I am black and beautiful\", as the Septuagint (Greek: μέλαινα ἐιμί καί καλή).\\n\\nOne legend has it that the Queen of Sheba brought Solomon the same gifts that the Magi later gave to Christ.\\nDuring the Middle Ages, Christians sometimes identified the queen of Sheba with the sibyl Sabba.\\n\\n\\n=== Jewish ===\\nAccording to Josephus (Ant. 8:165–73), the queen of Sheba was the queen of Egypt and Ethiopia, and brought to Israel the first specimens of the balsam, which grew in the Holy Land in the historian\\'s time. Josephus (Antiquities 2.5-2.10) represents Cambyses as conquering the capital of Aethiopia, and changing its name from Seba to Meroe. Josephus affirms that the Queen of Sheba or Saba came from this region, and that it bore the name of Saba before it was known by that of Meroe. There seems also some affinity between the word Saba and the name or title of the kings of the Aethiopians, Sabaco.\\nThe Talmud (Bava Batra 15b) insists that it was not a woman but a kingdom of Sheba (based on varying interpretations of Hebrew mlkt) that came to Jerusalem, obviously intended to discredit existing stories about the relations between Solomon and the Queen. Baba Bathra 15b: \"Whoever says malkath Sheba (I Kings X, 1) means a woman is mistaken; ... it means the kingdom (מַלְכֻת) of Sheba\".\\nThe most elaborate account of the queen\\'s visit to Solomon is given in the 8th century (?) Targum Sheni to Esther (see: Colloquy of the Queen of Sheba). A hoopoe informed Solomon that the kingdom of Sheba was the only kingdom on earth not subject to him and that its queen was a sun worshiper. He thereupon sent it to Kitor in the land of Sheba with a letter attached to its wing commanding its queen to come to him as a subject. She thereupon sent him all the ships of the sea loaded with precious gifts and 6,000 youths of equal size, all born at the same hour and clothed in purple garments. They carried a letter declaring that she could arrive in Jerusalem within three years although the journey normally took seven years. When the queen arrived and came to Solomon\\'s palace, thinking that the glass floor was a pool of water, she lifted the hem of her dress, uncovering her legs. Solomon informed her of her mistake and reprimanded her for her hairy legs. She asked him three (Targ. Sheni to Esther 1:3) or, according to the Midrash (Prov. ii. 6; Yalḳ. ii., § 1085, Midrash ha-Hefez), more riddles to test his wisdom.\\nA Yemenite manuscript entitled \"Midrash ha-Hefez\" (published by S. Schechter in \"Folk-Lore\", 1890, pp. 353 et seq.) gives nineteen riddles, most of which are found scattered through the Talmud and the Midrash, which the author of the \"Midrash ha-Hefez\" attributes to the Queen of Sheba. Most of these riddles are simply Bible questions, some not of a very edifying character. The two that are genuine riddles are: \"Without movement while living, it moves when its head is cut off,\" and \"Produced from the ground, man produces it, while its food is the fruit of the ground.\" The answer to the former is, \"a tree, which, when its top is removed, can be made into a moving ship\"; the answer to the latter is, \"a wick.\"\\nThe rabbis who denounce Solomon interpret I Kings 10:13 as meaning that Solomon had criminal intercourse with the Queen of Sheba, the offspring of which was Nebuchadnezzar, who destroyed the Temple (comp. Rashi ad loc.). According to others, the sin ascribed to Solomon in I Kings 11:7 et seq. is only figurative: it is not meant that Solomon fell into idolatry, but that he was guilty of failing to restrain his wives from idolatrous practises (Shab. 56b).\\nThe Alphabet of Sirach avers that Nebuchadnezzar was the fruit of the union between Solomon and the Queen of Sheba.\\nIn the Kabbalah, the Queen of Sheba was considered one of the queens of the demons and is sometimes identified with Lilith, first in the Targum of Job (1:15), and later in the Zohar and the subsequent literature. A Jewish and Arab myth maintains that the Queen was actually a jinn, half human and half demon.\\nIn Ashkenazi folklore, the figure merged with the popular image of Helen of Troy or the Frau Venus of German mythology. Ashkenazi incantations commonly depict the Queen of Sheba as a seductive dancer. Until recent generations she was popularly pictured as a snatcher of children and a demonic witch.\\n\\n\\n=== Islam ===\\n\\nIn the Quran, the story is essentially similar to the Bible and other Jewish sources. Solomon commanded the Queen of Sheba to come to him as a subject, whereupon she appeared before him (XXVII, 30–31, 45). Before the queen had arrived, Solomon had moved her throne to his palace with the help of a wise man, who was able to move the throne faster than a Jinn. She recognized the throne, which had been disguised, and finally accepted the faith of Solomon.\\nMuslim commentators such as al-Tabari, al-Zamakhshari, al-Baydawi supplement the story at various points. The Queen\\'s name is given as Bilqīs (Arabic: بلقيس\\u200e), probably derived from Greek παλλακίς (pallakis) or the Hebraised pilegesh, \"concubine\". According to some he then married the Queen, while other traditions assert that he gave her in marriage to a tubba of Hamdan. According to the Islamic tradition as represented by al-Hamdani, the queen of Sheba was the daughter of Ilsharah Yahdib, the Himyarite king of Najran.\\nThe Quran and its commentators have preserved the earliest literary reflection of the complete Bilkis legend, which among scholars complements the narrative that is derived from a Jewish Midrash.\\n\\n\\n=== Coptic ===\\nThe story of Solomon and the queen was popular among Copts, as shown by fragments of a Coptic legend preserved in a Berlin papyrus. The queen, having been subdued by deceit, gives Solomon a pillar on which all earthly science is inscribed. Solomon sends one of his demons to fetch the pillar from Ethiopia, whence it instantly arrives. In a Coptic poem, queen Yesaba of Cush asks riddles of Solomon.\\n\\n\\n=== Ethiopian ===\\n\\nThe fullest and most significant version of the legend appears in the Kebra Nagast (Glory of the Kings), the Ethiopian national saga, translated from Arabic in 1322. Here Menelik I is the child of Solomon and Makeda (the Ethiopic name of Bilkis) from whom the Ethiopian dynasty claims descent to the present day. While the Abyssinian story offers much greater detail, it omits any mention of the Queen\\'s hairy legs or any other element that might reflect on her unfavourably.\\nBased on the Gospels of Matthew (12:42) and Luke (11:31), the \"queen of the South\" is claimed to be the queen of Ethiopia. In those times, King Solomon sought merchants from all over the world, in order to buy materials for the building of the Temple. Among them was Tamrin, great merchant of Queen Makeda of Ethiopia. Having returned to Ethiopia, Tamrin told the queen of the wonderful things he had seen in Jerusalem, and of Solomon\\'s wisdom and generosity, whereupon she decided to visit Solomon. She was warmly welcomed, given a palace for dwelling, and received great gifts every day. Solomon and Makeda spoke with great wisdom, and instructed by him, she converted to Judaism. Before she left, there was a great feast in the king\\'s palace. Makeda stayed in the palace overnight, after Solomon had sworn that he would not do her any harm, while she swore in return that she would not steal from him. As the meals had been spicy, Makeda awoke thirsty at night, and went to drink some water, when Solomon appeared, reminding her of her oath. She answered: \"Ignore your oath, just let me drink water.\" That same night, Solomon had a dream about the sun rising over Israel, but being mistreated and despised by the Jews, the sun moved to shine over Ethiopia and Rome (i. e. the Byzantine empire). Solomon gave Makeda a ring as a token of faith, and then she left. On her way home, she gave birth to a son, whom she named Baina-leḥkem (i. e. bin al-ḥakīm, \"Son of the Wise Man\", later called Menilek). After the boy had grown up in Ethiopia, he went to Jerusalem carrying the ring, and was received with great honors. The king and the people tried in vain to persuade him to stay. Solomon gathered his nobles and announced that he would send his first-born son to Ethiopia together with their first-borns. He added that he was expecting a third son, who would marry the king of Rome\\'s daughter and reign over Rome, so that the entire world would be ruled by David\\'s descendants. Then Baina-leḥkem was anointed king by Zadok the high priest, and he took the name David. The first-born nobles who followed him are named, and even today some Ethiopian families claim their ancestry from them. Prior to leaving, the priests\\' sons had stolen the Ark of the Covenant, after their leader Azaryas had offered a sacrifice as commanded by one God\\'s angel. With much wailing, the procession left Jerusalem on a wind cart lead and carried by the archangel Michael. Having arrived at the Red Sea, Azaryas revealed to the people that the Ark is with them. David prayed to the Ark and the people rejoiced, singing, dancing, blowing horns and flutes, and beating drums. The Ark showed its miraculous powers during the crossing of the stormy Sea, and all arrived unscathed. When Solomon learned that the Ark had been stolen, he sent a horseman after the thieves, and even gave chase himself, but neither could catch them. Solomon returned to Jerusalem, and gave orders to the priests to remain silent about the theft and to place a copy of the Ark in the Temple, so that the foreign nations could not say that Israel had lost its fame.\\nAccording to some sources, Queen Makeda was part of the dynasty founded by Za Besi Angabo in 1370 B.C., with her grandfather and father being the last male rulers of the royal line. The family\\'s intended choice to rule Aksum was Makeda\\'s brother, Prince Nourad, but his early death led to her succession to the throne. She apparently ruled the Ethiopian kingdom for more than 50 years.\\nIn the Ethiopian Book of Aksum, Makeda is described as establishing a new capital city at Azeba.\\nEdward Ullendorff holds that Makeda is a corruption of Candace, the name or title of several Ethiopian queens from Meroe or Seba. Candace was the name of that queen of the Ethiopians whose chamberlain was converted to Christianity under the preaching of Philip the Evangelist (Acts 8:27) in 30 A.D. In the 14th century (?) Ethiopic version of the Alexander romance, Alexander the Great of Macedonia (Ethiopic Meqédon) is said to have met a queen Kandake of Nubia.\\nHistorians believe that the Solomonic dynasty actually began in 1270 with the emperor Yekuno Amlak, who, with the support of the Ethiopian Church, overthrew the Zagwe Dynasty, which had ruled Ethiopia since sometime during the 10th century. The link to King Solomon provided a strong foundation for Ethiopian national unity. Despite the fact that the dynasty officially ended in 1769 with Emperor Iyaos, Ethiopian rulers continued to trace their connection to it, right up to the last 20th-century emperor, Haile Selassie.\\nAccording to one tradition, the Ethiopian Jews (Beta Israel, \"Falashas\") also trace their ancestry to Menelik I, son of King Solomon and the Queen of Sheba. An opinion that appears more historical is that the Falashas descend from those Jews who settled in Egypt after the first exile, and who, upon the fall of the Persian domination (539–333 B.C.) on the borders of the Nile, penetrated into the Sudan, whence they went into the western parts of Abyssinia.\\n\\n\\n=== Yoruba ===\\n\\nThe Yoruba Ijebu clan of Ijebu-Ode, Nigeria, claim that she was a noblewoman of theirs known as Oloye Bilikisu Sungbo, which is similar to the queen\\'s name mentioned in the Quran. They also assert that a medieval system of walls and ditches, built sometime around the 10th century, was dedicated to her.\\nAfter excavations in 1999 the archaeologist Patrick Darling was quoted as saying, \"I don\\'t want to overplay the Sheba theory, but it cannot be discounted... The local people believe it and that\\'s what is important... The most cogent argument against it at the moment is the dating.\"\\n\\n\\n== In art ==\\n\\n\\n=== Medieval ===\\nThe treatment of Solomon in literature, art, and music also involves the sub-themes of the Queen of Sheba and the Shulammite of the Song of Songs. King Solomon and the Queen of Sheba was not a common subject until the 12th century. In Christian iconography Solomon represented Jesus, and Sheba represented the gentile Church; hence Sheba\\'s meeting with Solomon bearing rich gifts foreshadowed the adoration of the Magi. On the other hand, Sheba enthroned represented the coronation of the virgin.\\nSculptures of the Queen of Sheba are found on great Gothic cathedrals such as Chartres, Rheims, Amiens, and Wells. The 12th century cathedrals at Strasbourg, Chartres, Rochester and Canterbury include artistic renditions in stained glass windows and doorjamb decorations. Likewise of Romanesque art, the enamel depiction of a black woman at Klosterneuburg Monastery. The Queen of Sheba, standing in water before Solomon, is depicted on a window in King\\'s College Chapel, Cambridge.\\n\\n\\n=== Renaissance ===\\n\\nThe reception of the queen was a popular subject during the Italian Renaissance. It appears in the bronze doors to the Florence Baptistery by Lorenzo Ghiberti, in frescoes by Benozzo Gozzoli (Campo Santo, Pisa) and in the Raphael Loggie (Vatican). Examples of Venetian art are by Tintoretto (Prado) and Veronese (Pinacotheca, Turin). In the 17th century, Claude Lorrain painted The Embarkation of the Queen of Sheba (National Gallery, London).\\nPiero della Francesca\\'s frescoes in Arezzo (ca. 1466) on the Legend of the True Cross contain two panels on the visit of the Queen of Sheba to Solomon. The legend links the beams of Solomon\\'s palace (adored by Queen of Sheba) to the wood of the crucifixion. The Renaissance continuation of the analogy between the Queen\\'s visit to Solomon and the adoration of the Magi is evident in the Triptych of the Adoration of the Magi (ca. 1510) by Hieronymus Bosch.\\n\\n\\n=== Literature ===\\nBoccaccio\\'s On Famous Women (Latin: De Mulieribus Claris) follows Josephus in calling the Queen of Sheba Nicaula. Boccaccio goes on to explain that not only was she the Queen of Ethiopia and Egypt, but also the queen of Arabia. She also is related to have had a grand palace on \"a very large island\" called Meroe, located someplace near the Nile river, \"practically on the other side of the world.\" From there Nicaula crossed the deserts of Arabia, through Ethiopia and Egypt and up the coast of the Red Sea, to come to Jerusalem to see \"the great King Solomon.\"\\nChristine de Pizan\\'s The Book of the City of Ladies continues the convention of calling the Queen of Sheba \"Nicaula\". The author praises the Queen for secular and religious wisdom and lists her besides Christian and Hebrew prophetesses as first on a list of dignified female pagans.\\nChristopher Marlowe\\'s Doctor Faustus refers to the Queen of Sheba as Saba, when Mephistopheles is trying to persuade Faustus of the wisdom of the women with whom he supposedly shall be presented every morning.\\nGérard de Nerval\\'s autobiographical novel, Voyage to the Orient (1851), details his travels through the Middle East with much artistic license. He recapitulates at length a tale told in a Turkish cafe of King Soliman\\'s love of Balkis, the Queen of Saba, but she, in turn, is destined to love Adoniram (Hiram Abif), Soliman\\'s chief craftsman of the Temple, owing to both her and Adoniram\\'s divine genealogy. Soliman grows jealous of Adoniram, and when he learns of three craftsmen who wish to sabotage his work and later kill him, Soliman willfully ignores warnings of these plots. Adoniram is murdered and Balkis flees Soliman\\'s kingdom.\\nLéopold Sédar Senghor\\'s \"Elégie pour la Reine de Saba,\" published in his Elégies majeures in 1976, uses the Queen of Sheba in a love poem and for a political message. In the 1970s, he used the Queen of Sheba fable to widen his view of Negritude and Eurafrique by including \\'Arab-Berber Africa.\\'\\nNeil Gaiman\\'s 2001 novel American Gods features a version of Sheba called Bilquis. The character is played by Yetide Badaki in the identically named television adaptation on Starz.\\nRudyard Kipling\\'s book Just So Stories includes the tale of \"The Butterfly That Stamped.\" Therein, Kipling identifies Balkis, \"Queen that was of Sheba and Sable and the Rivers of the Gold of the South\" as best, and perhaps only, beloved of the 1000 wives of Suleiman-bin-Daoud, King Solomon. Explicitly ascribed great wisdom, \"Balkis, almost as wise as the Most Wise Suleiman-bin-Daoud\", nevertheless Kipling perhaps implies in her a greater wisdom than her husband, in that she is able to gently manipulate her husband, the afrits and djinns he commands, the other quarrelsome 999 wives of Suleimin-bin-Daoud, the butterfly of the title and the butterfly\\'s wife, thus bringing harmony and happiness for all.\\n\\n\\n=== Film ===\\n\\nPlayed by Gabrielle Robinne in La reine de Saba (1913)\\nPlayed by Betty Blythe in The Queen of Sheba (1921)\\nPlayed by France Dhélia in Le berceau de dieu (1926)\\nPlayed by Dorothy Page in King Solomon of Broadway (1935)\\nPlayed by Leonora Ruffo in The Queen of Sheba (1952)\\nPlayed by Gina Lollobrigida in Solomon and Sheba (1959)\\nPlayed by Winifred Bryan in Queen of Sheba Meets the Atom Man (1963)\\nPlayed by Anya Phillips in Rome \\'78 (1978)\\n\\n\\n=== Music ===\\nSolomon (composed in 1748; first performed in 1749), oratorio by George Frideric Handel; the \"Arrival of the Queen of Sheba\" from this work is often performed as a concert piece\\nLa reine de Saba (1862), opera by Charles Gounod\\nDie Königin von Saba (1875), opera by Karl Goldmark\\nLa Reine de Scheba (1926), opera by Reynaldo Hahn\\nBelkis, Regina di Saba (1931), ballet by Ottorino Respighi\\nSolomon and Balkis (1942), opera by Randall Thompson\\nBlack Beauty (1970), song by Focus\\nMakeda (1998), French R&B by Chadian duo Les Nubians\\nAïcha (1996), by Khaled\\nBalqis (2000), song by Siti Nurhaliza\\n\\n\\n=== Television ===\\nPlayed by Halle Berry in Solomon & Sheba (1995)\\nPlayed by Vivica A. Fox in Solomon (1997)\\nPlayed by Andrulla Blanchette in Lexx, Season 4, Episode 21: \"Viva Lexx Vegas\" (2002)\\nPlayed by Amani Zain in Queen of Sheba: Behind the Myth (2002)\\nPlayed by Yetide Badaki in American Gods (2017)\\n\\n\\n== See also ==\\nBiblical and Quranic narratives\\nBilocation\\nHadhramaut\\nLegends of Africa\\nMinaeans\\nQahtanite\\nQataban\\nTay al-Arz\\n\\n\\n== References ==\\n\\n\\n== Bibliography ==\\nThaʿlabī, Qiṣaṣ ̣(1356 A.H.), 262–4\\nKisāʾī, Qiṣaṣ (1356 A.H.), 285–92\\nG. Weil, The Bible, the Koran, and the Talmud ... (1846)\\nG. Rosch, Die Königin von Saba als Königin Bilqis (Jahrb. f. Prot. Theol., 1880) 524‒72\\nM. Grünbaum, Neue Beiträge zur semitischen Sagenkunde (1893) 211‒21\\nE. Littmann, The legend of the Queen of Sheba in the tradition of Axum (1904)\\nL. Ginzberg, Legends of the Jews, 3 (1911), 411; 4 (1913), 143–9; (1928), 288–91\\nH. Speyer, Die biblischen Erzählungen im Qoran (1931, repr. 1961), 390–9\\nE. Budge, The Queen of Sheba and her only son Menyelek (1932)\\nJ. Ryckmans, L\\'Institution monarchique en Arabie méridionale avant l\\'Islam (1951)\\nE. Ullendorff, Candace (Acts VIII, 27) and the Queen of Sheba (New Testament Studies, 1955, 53‒6)\\nE. Ullendorff, Hebraic-Jewish elements in Abyssinian (monophysite) Christianity (JSS, 1956, 216‒56)\\nD. Hubbard, The literary sources of the Kebra Nagast (St. Andrews University Ph. D. thesis, 1956, 278‒308)\\nLa Persécution des chrétiens himyarites au sixième siècle (1956)\\nBulletin of American Schools of Oriental Research 143 (1956) 6–10; 145 (1957) 25–30; 151 (1958) 9–16\\nA. Jamme, La Paléographique sud-arabe de J. Pirenne (1957)\\nR. Bowen, F. Albright (eds.), Archaeological Discoveries in South Arabia (1958)\\nEncyclopedic Dictionary of the Bible (1963) 2067–70\\nT. Tamrat, Church and State in Ethiopia (1972) 1270–1527\\nW. Daum (ed.), Die Königin von Saba: Kunst, Legende und Archäologie zwischen Morgenland und Abendland (1988)\\nJ. Lassner, Demonizing the Queen of Sheba: Boundaries of Gender and Culture in Postbiblical Judaism and Medieval Islam (1993)\\nM. Brooks (ed.), Kebra Nagast (The Glory of Kings) (1998)\\nJ. Breton, Arabia Felix from the Time of the Queen of Sheba: Eighth Century B.C. to First Century A.D. (1999)\\nD. Crummey, Land and Society in the Christian Kingdom of Ethiopia: From the Thirteenth to the Twentieth Century (2000)\\nA. Gunther (ed.), Caravan Kingdoms: Yemen and the Ancient Incense Trade (2005)'"
      ]
     },
     "execution_count": 133,
     "metadata": {},
     "output_type": "execute_result"
    }
   ],
   "source": [
    "wikipedia.page(a[3]).content"
   ]
  },
  {
   "cell_type": "code",
   "execution_count": null,
   "metadata": {},
   "outputs": [],
   "source": []
  },
  {
   "cell_type": "code",
   "execution_count": null,
   "metadata": {},
   "outputs": [],
   "source": []
  },
  {
   "cell_type": "code",
   "execution_count": null,
   "metadata": {},
   "outputs": [],
   "source": []
  },
  {
   "cell_type": "code",
   "execution_count": 145,
   "metadata": {},
   "outputs": [],
   "source": [
    "from elasticsearch import Elasticsearch\n",
    "from datetime import datetime"
   ]
  },
  {
   "cell_type": "code",
   "execution_count": 146,
   "metadata": {
    "scrolled": true
   },
   "outputs": [
    {
     "name": "stdout",
     "output_type": "stream",
     "text": [
      "deleting 'test' index...\n",
      " response: '{'acknowledged': True}'\n",
      "creating 'test' index...\n",
      " response: '{'acknowledged': True, 'shards_acknowledged': True, 'index': 'test'}'\n"
     ]
    }
   ],
   "source": [
    "es = Elasticsearch()\n",
    "INDEX_NAME = \"test\"\n",
    "\n",
    "if es.indices.exists(INDEX_NAME):\n",
    "    print(\"deleting '%s' index...\" % (INDEX_NAME))\n",
    "    res = es.indices.delete(index = INDEX_NAME)\n",
    "    print(\" response: '%s'\" % (res))\n",
    "\n",
    "request_body = {\n",
    "    \"settings\" : {\n",
    "        \"number_of_shards\" : 1,\n",
    "        \"analysis\": {\n",
    "            \"filter\": {\n",
    "                \"english_stop\": {\n",
    "                    \"type\": \"stop\",\n",
    "                    \"stopwords\": \"_english_\" \n",
    "                },\n",
    "                \"english_keywords\": {\n",
    "                    \"type\": \"keyword_marker\",\n",
    "                    \"keywords\": [\"example\"] \n",
    "                },\n",
    "                \"english_stemmer\": {\n",
    "                    \"type\": \"stemmer\",\n",
    "                    \"language\": \"english\"\n",
    "                },\n",
    "                \"english_possessive_stemmer\": {\n",
    "                    \"type\": \"stemmer\",\n",
    "                  \"language\": \"possessive_english\"\n",
    "                }\n",
    "            },\n",
    "            \"analyzer\": {\n",
    "                \"english\": {\n",
    "                    \"tokenizer\":  \"standard\",\n",
    "                    \"filter\": [\n",
    "                        \"english_possessive_stemmer\",\n",
    "                        \"lowercase\",\n",
    "                        \"english_stop\",\n",
    "                        \"english_keywords\",\n",
    "                        \"english_stemmer\"\n",
    "                    ]\n",
    "                }\n",
    "            }\n",
    "        }\n",
    "    },\n",
    "    \"mappings\" : {\n",
    "        \"blog\" : {\n",
    "            \"properties\" : {\n",
    "                \"title\": {\"type\" : \"text\"},\n",
    "                \"text\": {\"type\" : \"text\"},\n",
    "                \"date\": {\"type\": \"date\"}\n",
    "            }\n",
    "        }\n",
    "    },\n",
    "}\n",
    "\n",
    "print(\"creating '%s' index...\" % (INDEX_NAME))\n",
    "res = es.indices.create(index = INDEX_NAME, body = request_body)\n",
    "print(\" response: '%s'\" % (res))"
   ]
  },
  {
   "cell_type": "code",
   "execution_count": 147,
   "metadata": {},
   "outputs": [],
   "source": [
    "for i in range(5):\n",
    "    doc = {\n",
    "        'title': 'victor',\n",
    "        'text': 'Hello World',\n",
    "        \"date\": datetime.now()\n",
    "    }\n",
    "\n",
    "    res = es.index(index=INDEX_NAME, doc_type=\"blog\", id=i, body=doc)"
   ]
  },
  {
   "cell_type": "code",
   "execution_count": 148,
   "metadata": {},
   "outputs": [
    {
     "data": {
      "text/plain": [
       "{'_id': '4',\n",
       " '_index': 'test',\n",
       " '_source': {'date': '2018-03-17T18:41:47.028637',\n",
       "  'text': 'Hello World',\n",
       "  'title': 'victor'},\n",
       " '_type': 'blog',\n",
       " '_version': 1,\n",
       " 'found': True}"
      ]
     },
     "execution_count": 148,
     "metadata": {},
     "output_type": "execute_result"
    }
   ],
   "source": [
    "es.get(index=INDEX_NAME, doc_type=\"blog\", id=4, )"
   ]
  },
  {
   "cell_type": "code",
   "execution_count": 149,
   "metadata": {},
   "outputs": [
    {
     "data": {
      "text/plain": [
       "{'_shards': {'failed': 0, 'successful': 1, 'total': 2}}"
      ]
     },
     "execution_count": 149,
     "metadata": {},
     "output_type": "execute_result"
    }
   ],
   "source": [
    "es.indices.refresh(index=INDEX_NAME)"
   ]
  },
  {
   "cell_type": "code",
   "execution_count": 150,
   "metadata": {},
   "outputs": [
    {
     "name": "stdout",
     "output_type": "stream",
     "text": [
      "Got 5 Hits:\n",
      "{'_index': 'test', '_type': 'blog', '_id': '0', '_score': 0.087011375, '_source': {'title': 'victor', 'text': 'Hello World', 'date': '2018-03-17T18:41:46.984078'}}\n",
      "{'_index': 'test', '_type': 'blog', '_id': '1', '_score': 0.087011375, '_source': {'title': 'victor', 'text': 'Hello World', 'date': '2018-03-17T18:41:46.996964'}}\n",
      "{'_index': 'test', '_type': 'blog', '_id': '2', '_score': 0.087011375, '_source': {'title': 'victor', 'text': 'Hello World', 'date': '2018-03-17T18:41:47.006819'}}\n",
      "{'_index': 'test', '_type': 'blog', '_id': '3', '_score': 0.087011375, '_source': {'title': 'victor', 'text': 'Hello World', 'date': '2018-03-17T18:41:47.018670'}}\n",
      "{'_index': 'test', '_type': 'blog', '_id': '4', '_score': 0.087011375, '_source': {'title': 'victor', 'text': 'Hello World', 'date': '2018-03-17T18:41:47.028637'}}\n",
      "{'took': 1, 'timed_out': False, '_shards': {'total': 1, 'successful': 1, 'skipped': 0, 'failed': 0}, 'hits': {'total': 5, 'max_score': 0.087011375, 'hits': [{'_index': 'test', '_type': 'blog', '_id': '0', '_score': 0.087011375, '_source': {'title': 'victor', 'text': 'Hello World', 'date': '2018-03-17T18:41:46.984078'}}, {'_index': 'test', '_type': 'blog', '_id': '1', '_score': 0.087011375, '_source': {'title': 'victor', 'text': 'Hello World', 'date': '2018-03-17T18:41:46.996964'}}, {'_index': 'test', '_type': 'blog', '_id': '2', '_score': 0.087011375, '_source': {'title': 'victor', 'text': 'Hello World', 'date': '2018-03-17T18:41:47.006819'}}, {'_index': 'test', '_type': 'blog', '_id': '3', '_score': 0.087011375, '_source': {'title': 'victor', 'text': 'Hello World', 'date': '2018-03-17T18:41:47.018670'}}, {'_index': 'test', '_type': 'blog', '_id': '4', '_score': 0.087011375, '_source': {'title': 'victor', 'text': 'Hello World', 'date': '2018-03-17T18:41:47.028637'}}]}}\n"
     ]
    }
   ],
   "source": [
    "body = {\n",
    "    \"query\": {\n",
    "        \"more_like_this\" : {\n",
    "            \"fields\" : [\"text\"],\n",
    "            \"like\" : \"Hello\",\n",
    "            \"min_term_freq\" : 1,\n",
    "            \"max_query_terms\" : 12\n",
    "        }\n",
    "    }\n",
    "}\n",
    "res = es.search(index=INDEX_NAME, body=body)\n",
    "# print(res)\n",
    "print(\"Got %d Hits:\" % res['hits']['total'])\n",
    "for hit in res['hits']['hits']:\n",
    "    print(hit)\n",
    "    \n",
    "print(res)"
   ]
  },
  {
   "cell_type": "code",
   "execution_count": 144,
   "metadata": {},
   "outputs": [
    {
     "data": {
      "text/plain": [
       "{'_id': '2',\n",
       " '_index': 'test',\n",
       " '_source': {'date': '2018-03-17T18:15:45.231983',\n",
       "  'text': 'Hello World',\n",
       "  'title': 'victor'},\n",
       " '_type': 'blog',\n",
       " '_version': 1,\n",
       " 'found': True}"
      ]
     },
     "execution_count": 144,
     "metadata": {},
     "output_type": "execute_result"
    }
   ],
   "source": [
    "es.get(INDEX_NAME, \"blog\", 2)"
   ]
  },
  {
   "cell_type": "code",
   "execution_count": null,
   "metadata": {},
   "outputs": [],
   "source": []
  },
  {
   "cell_type": "code",
   "execution_count": null,
   "metadata": {},
   "outputs": [],
   "source": []
  },
  {
   "cell_type": "code",
   "execution_count": null,
   "metadata": {},
   "outputs": [],
   "source": []
  },
  {
   "cell_type": "code",
   "execution_count": null,
   "metadata": {},
   "outputs": [],
   "source": []
  },
  {
   "cell_type": "code",
   "execution_count": null,
   "metadata": {},
   "outputs": [],
   "source": []
  },
  {
   "cell_type": "code",
   "execution_count": null,
   "metadata": {},
   "outputs": [],
   "source": []
  }
 ],
 "metadata": {
  "kernelspec": {
   "display_name": "Python 3",
   "language": "python",
   "name": "python3"
  },
  "language_info": {
   "codemirror_mode": {
    "name": "ipython",
    "version": 3
   },
   "file_extension": ".py",
   "mimetype": "text/x-python",
   "name": "python",
   "nbconvert_exporter": "python",
   "pygments_lexer": "ipython3",
   "version": "3.6.4"
  }
 },
 "nbformat": 4,
 "nbformat_minor": 2
}
