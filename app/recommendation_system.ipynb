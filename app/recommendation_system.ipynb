{
 "cells": [
  {
   "cell_type": "code",
   "execution_count": 13,
   "metadata": {},
   "outputs": [],
   "source": [
    "import nltk\n",
    "import wikipedia"
   ]
  },
  {
   "cell_type": "code",
   "execution_count": 14,
   "metadata": {},
   "outputs": [],
   "source": [
    "def named_entity_recognition(text):\n",
    "    data = nltk.word_tokenize(text)\n",
    "    data = nltk.pos_tag(data)\n",
    "    data = nltk.ne_chunk(data)\n",
    "    data = list(data)\n",
    "    \n",
    "    final = False\n",
    "    \n",
    "    for x in data:\n",
    "        if type(x) is nltk.tree.Tree:\n",
    "            final = x[0][0]\n",
    "            \n",
    "    return final"
   ]
  },
  {
   "cell_type": "code",
   "execution_count": 15,
   "metadata": {},
   "outputs": [],
   "source": [
    "d = named_entity_recognition(\"Can you give me some info about Cahrles\")"
   ]
  },
  {
   "cell_type": "code",
   "execution_count": null,
   "metadata": {},
   "outputs": [],
   "source": []
  },
  {
   "cell_type": "code",
   "execution_count": 16,
   "metadata": {},
   "outputs": [
    {
     "data": {
      "text/plain": [
       "['Bulgaria',\n",
       " 'Demographics of Bulgaria',\n",
       " 'Sofia',\n",
       " 'Bulgaria Air',\n",
       " \"People's Republic of Bulgaria\",\n",
       " 'Balkan Wars',\n",
       " 'Volga Bulgaria',\n",
       " 'List of Bulgarian consorts',\n",
       " 'Georgi Markov',\n",
       " 'Provinces of Bulgaria']"
      ]
     },
     "execution_count": 16,
     "metadata": {},
     "output_type": "execute_result"
    }
   ],
   "source": [
    "wikipedia.search(\"Bulgaria\")"
   ]
  },
  {
   "cell_type": "code",
   "execution_count": 17,
   "metadata": {},
   "outputs": [],
   "source": [
    "bg = wikipedia.page(\"Bulgaria\")"
   ]
  },
  {
   "cell_type": "code",
   "execution_count": 18,
   "metadata": {},
   "outputs": [],
   "source": [
    "from gensim.summarization.summarizer import summarize"
   ]
  },
  {
   "cell_type": "code",
   "execution_count": 19,
   "metadata": {},
   "outputs": [
    {
     "data": {
      "text/plain": [
       "'Thracians, one of the three primary ancestral groups of modern Bulgarians, began appearing in the region during the Iron Age. In the late 6th century BC, the Persians conquered most of present-day Bulgaria.\\nIt was superseded by the subsequent Treaty of Berlin, signed on 13 July, which provided for a much smaller state comprising Moesia and the region of Sofia, leaving large populations of Bulgarians outside the new country.\\nFrom a largely agricultural country with a predominantly rural population in 1948, by the 1980s Bulgaria had transformed into an industrial economy with scientific and technological research at the top of its budgetary expenditure priorities.\\nNine historical and natural objects have been inscribed in the list of UNESCO World Heritage Sites: the Madara Rider, the Thracian tombs in Sveshtari and Kazanlak, the Boyana Church, the Rila Monastery, the Rock-hewn Churches of Ivanovo, Pirin National Park, Sreburna Nature Reserve and the ancient city of Nesebar.'"
      ]
     },
     "execution_count": 19,
     "metadata": {},
     "output_type": "execute_result"
    }
   ],
   "source": [
    "summarize(bg.content, ratio=0.01)"
   ]
  },
  {
   "cell_type": "code",
   "execution_count": null,
   "metadata": {},
   "outputs": [],
   "source": []
  },
  {
   "cell_type": "code",
   "execution_count": 20,
   "metadata": {},
   "outputs": [
    {
     "data": {
      "text/plain": [
       "1000"
      ]
     },
     "execution_count": 20,
     "metadata": {},
     "output_type": "execute_result"
    }
   ],
   "source": [
    "len(bg.content[:1*10**3])"
   ]
  },
  {
   "cell_type": "code",
   "execution_count": 21,
   "metadata": {},
   "outputs": [
    {
     "data": {
      "text/plain": [
       "52454"
      ]
     },
     "execution_count": 21,
     "metadata": {},
     "output_type": "execute_result"
    }
   ],
   "source": [
    "len(bg.content)"
   ]
  },
  {
   "cell_type": "code",
   "execution_count": null,
   "metadata": {},
   "outputs": [],
   "source": []
  },
  {
   "cell_type": "code",
   "execution_count": null,
   "metadata": {},
   "outputs": [],
   "source": []
  },
  {
   "cell_type": "code",
   "execution_count": 22,
   "metadata": {},
   "outputs": [],
   "source": [
    "a = wikipedia.random(pages=10)"
   ]
  },
  {
   "cell_type": "code",
   "execution_count": 23,
   "metadata": {},
   "outputs": [
    {
     "data": {
      "text/plain": [
       "'J. Gordon Edwards (1919–2004) was an entomologist, mountain climber, author, and park ranger. Edwards was professor, and later emeritus professor of Biology, San Jose State University.\\n\\n\\n== DDT and environmental issues ==\\nEdwards was prominent as a supporter of the use of DDT and critic of Rachel Carson. He was active as a member of, or consultant for, a wide range of lobby groups opposed to environmental regulation, including the American Council on Science and Health. According to Edwards, he was also active as a member of several environmental groups, such as the Sierra Club (which published one of his books,) and the Audubon Society. Edwards was a fellow of the California Academy of Sciences. He published his ideas in 21st Century Science and Technology, a publication of the Lyndon LaRouche Movement. He was co-author, with Steven Milloy of 100 things you should know about DDT. Edwards last work, titled DDT: A Case Study in Scientific Fraud was published in 2004 after his death in the Journal of American Physicians and Surgeons, in which he makes the impassioned plea \"The ban on DDT, founded on erroneous or fraudulent reports and imposed by one powerful bureaucrat, has caused millions of deaths, while sapping the strength and productivity of countless human beings in underdeveloped countries. It is time for an honest appraisal and for immediate deployment of the best currently available means to control insect-borne diseases. This means DDT.\"\\nEdwards insisted that \"no human beings have ever been harmed by DDT.\" According to 21st Century Science and Technology, a photograph appeared in the September 1971 issue of Esquire magazine showing Edwards eating a teaspoon full of DDT, which he claimed to do on a weekly basis to demonstrate the lack of toxicity of DDT for humans and vertebrate animals. Because of its role in preventing the spread of insect-borne diseases, Edwards asserted that \"DDT has saved more millions of lives than any other man-made chemical.\"\\n\\n\\n== Mountaineering ==\\nEdwards was a park ranger in Glacier National Park for nine years beginning in 1947, and returned often in the years following. He spent much of his free time exploring the rugged terrain of the park, and pioneered many different routes up a variety of its spectacular mountains. In the foreword to his mountaineering classic, A Climber\\'s Guide to Glacier National Park, Rolf Larson gave him the unofficial title of \"patron saint of climbing\" in the park. The guide book was first published by the Sierra Club in 1961, with the most recently updated edition published in 1995. Ansel Adams personally gave Edwards permission to use his iconic photographs in the book. Edwards was also a founding member of the Glacier Mountaineering Society, a group that publishes an annual climbing journal and continues to be active in organizing hikes and climbs throughout the park.\\nHe died on July 19, 2004, of a heart attack while hiking up Divide Mountain on the eastern edge of Glacier National Park (U.S.) with his wife, Alice. He was 84.\\n\\n\\n== Books ==\\nColeoptera or Beetles East of the Great Plains (1949) Edwards Bros.\\n\\n\\n== References =='"
      ]
     },
     "execution_count": 23,
     "metadata": {},
     "output_type": "execute_result"
    }
   ],
   "source": [
    "wikipedia.page(a[3]).content"
   ]
  },
  {
   "cell_type": "code",
   "execution_count": null,
   "metadata": {},
   "outputs": [],
   "source": []
  },
  {
   "cell_type": "code",
   "execution_count": null,
   "metadata": {},
   "outputs": [],
   "source": []
  },
  {
   "cell_type": "code",
   "execution_count": null,
   "metadata": {},
   "outputs": [],
   "source": []
  },
  {
   "cell_type": "code",
   "execution_count": 24,
   "metadata": {},
   "outputs": [],
   "source": [
    "from elasticsearch import Elasticsearch\n",
    "from datetime import datetime"
   ]
  },
  {
   "cell_type": "code",
   "execution_count": 25,
   "metadata": {
    "scrolled": true
   },
   "outputs": [
    {
     "name": "stdout",
     "output_type": "stream",
     "text": [
      "deleting 'test' index...\n",
      " response: '{'acknowledged': True}'\n",
      "creating 'test' index...\n",
      " response: '{'acknowledged': True, 'shards_acknowledged': True, 'index': 'test'}'\n"
     ]
    }
   ],
   "source": [
    "es = Elasticsearch()\n",
    "INDEX_NAME = \"test\"\n",
    "\n",
    "if es.indices.exists(INDEX_NAME):\n",
    "    print(\"deleting '%s' index...\" % (INDEX_NAME))\n",
    "    res = es.indices.delete(index = INDEX_NAME)\n",
    "    print(\" response: '%s'\" % (res))\n",
    "\n",
    "request_body = {\n",
    "    \"settings\" : {\n",
    "        \"number_of_shards\" : 1,\n",
    "        \"analysis\": {\n",
    "            \"filter\": {\n",
    "                \"english_stop\": {\n",
    "                    \"type\": \"stop\",\n",
    "                    \"stopwords\": \"_english_\" \n",
    "                },\n",
    "                \"english_keywords\": {\n",
    "                    \"type\": \"keyword_marker\",\n",
    "                    \"keywords\": [\"example\"] \n",
    "                },\n",
    "                \"english_stemmer\": {\n",
    "                    \"type\": \"stemmer\",\n",
    "                    \"language\": \"english\"\n",
    "                },\n",
    "                \"english_possessive_stemmer\": {\n",
    "                    \"type\": \"stemmer\",\n",
    "                  \"language\": \"possessive_english\"\n",
    "                }\n",
    "            },\n",
    "            \"analyzer\": {\n",
    "                \"english\": {\n",
    "                    \"tokenizer\":  \"standard\",\n",
    "                    \"filter\": [\n",
    "                        \"english_possessive_stemmer\",\n",
    "                        \"lowercase\",\n",
    "                        \"english_stop\",\n",
    "                        \"english_keywords\",\n",
    "                        \"english_stemmer\"\n",
    "                    ]\n",
    "                }\n",
    "            }\n",
    "        }\n",
    "    },\n",
    "    \"mappings\" : {\n",
    "        \"blog\" : {\n",
    "            \"properties\" : {\n",
    "                \"title\": {\"type\" : \"text\"},\n",
    "                \"text\": {\"type\" : \"text\"},\n",
    "                \"date\": {\"type\": \"date\"}\n",
    "            }\n",
    "        }\n",
    "    },\n",
    "}\n",
    "\n",
    "print(\"creating '%s' index...\" % (INDEX_NAME))\n",
    "res = es.indices.create(index = INDEX_NAME, body = request_body)\n",
    "print(\" response: '%s'\" % (res))"
   ]
  },
  {
   "cell_type": "code",
   "execution_count": 26,
   "metadata": {},
   "outputs": [],
   "source": [
    "for i in range(5):\n",
    "    doc = {\n",
    "        'title': 'victor',\n",
    "        'text': 'Hello World',\n",
    "        \"date\": datetime.now()\n",
    "    }\n",
    "\n",
    "    res = es.index(index=INDEX_NAME, doc_type=\"blog\", id=i, body=doc)"
   ]
  },
  {
   "cell_type": "code",
   "execution_count": 27,
   "metadata": {},
   "outputs": [
    {
     "data": {
      "text/plain": [
       "{'_id': '4',\n",
       " '_index': 'test',\n",
       " '_source': {'date': '2018-03-18T02:03:42.188049',\n",
       "  'text': 'Hello World',\n",
       "  'title': 'victor'},\n",
       " '_type': 'blog',\n",
       " '_version': 1,\n",
       " 'found': True}"
      ]
     },
     "execution_count": 27,
     "metadata": {},
     "output_type": "execute_result"
    }
   ],
   "source": [
    "es.get(index=INDEX_NAME, doc_type=\"blog\", id=4, )"
   ]
  },
  {
   "cell_type": "code",
   "execution_count": 28,
   "metadata": {},
   "outputs": [
    {
     "data": {
      "text/plain": [
       "{'_shards': {'failed': 0, 'successful': 1, 'total': 2}}"
      ]
     },
     "execution_count": 28,
     "metadata": {},
     "output_type": "execute_result"
    }
   ],
   "source": [
    "es.indices.refresh(index=INDEX_NAME)"
   ]
  },
  {
   "cell_type": "code",
   "execution_count": 32,
   "metadata": {},
   "outputs": [
    {
     "name": "stdout",
     "output_type": "stream",
     "text": [
      "[{'_index': 'test', '_type': 'blog', '_id': '0', '_score': 0.087011375, '_source': {'title': 'victor', 'text': 'Hello World', 'date': '2018-03-18T02:03:42.138694'}}, {'_index': 'test', '_type': 'blog', '_id': '1', '_score': 0.087011375, '_source': {'title': 'victor', 'text': 'Hello World', 'date': '2018-03-18T02:03:42.153419'}}, {'_index': 'test', '_type': 'blog', '_id': '2', '_score': 0.087011375, '_source': {'title': 'victor', 'text': 'Hello World', 'date': '2018-03-18T02:03:42.164823'}}, {'_index': 'test', '_type': 'blog', '_id': '3', '_score': 0.087011375, '_source': {'title': 'victor', 'text': 'Hello World', 'date': '2018-03-18T02:03:42.176975'}}, {'_index': 'test', '_type': 'blog', '_id': '4', '_score': 0.087011375, '_source': {'title': 'victor', 'text': 'Hello World', 'date': '2018-03-18T02:03:42.188049'}}]\n"
     ]
    }
   ],
   "source": [
    "body = {\n",
    "    \"query\": {\n",
    "        \"more_like_this\" : {\n",
    "            \"fields\" : [\"text\"],\n",
    "            \"like\" : \"Hello\",\n",
    "            \"min_term_freq\" : 1,\n",
    "            \"max_query_terms\" : 12\n",
    "        }\n",
    "    }\n",
    "}\n",
    "res = es.search(index=INDEX_NAME, body=body)\n",
    "# print(res)\n",
    "# print(\"Got %d Hits:\" % res['hits']['total'])\n",
    "# for hit in res['hits']['hits']:\n",
    "#    print(hit)\n",
    "    \n",
    "print(res[\"hits\"][\"hits\"])"
   ]
  },
  {
   "cell_type": "code",
   "execution_count": 144,
   "metadata": {},
   "outputs": [
    {
     "data": {
      "text/plain": [
       "{'_id': '2',\n",
       " '_index': 'test',\n",
       " '_source': {'date': '2018-03-17T18:15:45.231983',\n",
       "  'text': 'Hello World',\n",
       "  'title': 'victor'},\n",
       " '_type': 'blog',\n",
       " '_version': 1,\n",
       " 'found': True}"
      ]
     },
     "execution_count": 144,
     "metadata": {},
     "output_type": "execute_result"
    }
   ],
   "source": [
    "es.get(INDEX_NAME, \"blog\", 2)"
   ]
  },
  {
   "cell_type": "code",
   "execution_count": null,
   "metadata": {},
   "outputs": [],
   "source": []
  },
  {
   "cell_type": "code",
   "execution_count": null,
   "metadata": {},
   "outputs": [],
   "source": []
  },
  {
   "cell_type": "code",
   "execution_count": null,
   "metadata": {},
   "outputs": [],
   "source": []
  },
  {
   "cell_type": "code",
   "execution_count": null,
   "metadata": {},
   "outputs": [],
   "source": []
  },
  {
   "cell_type": "code",
   "execution_count": null,
   "metadata": {},
   "outputs": [],
   "source": []
  },
  {
   "cell_type": "code",
   "execution_count": null,
   "metadata": {},
   "outputs": [],
   "source": []
  }
 ],
 "metadata": {
  "kernelspec": {
   "display_name": "Python 3",
   "language": "python",
   "name": "python3"
  },
  "language_info": {
   "codemirror_mode": {
    "name": "ipython",
    "version": 3
   },
   "file_extension": ".py",
   "mimetype": "text/x-python",
   "name": "python",
   "nbconvert_exporter": "python",
   "pygments_lexer": "ipython3",
   "version": "3.6.4"
  }
 },
 "nbformat": 4,
 "nbformat_minor": 2
}
